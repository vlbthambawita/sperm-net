{
 "cells": [
  {
   "cell_type": "code",
   "execution_count": 5,
   "metadata": {},
   "outputs": [],
   "source": [
    "import torch\n",
    "import pandas as pd\n",
    "from sklearn.model_selection import StratifiedKFold"
   ]
  },
  {
   "cell_type": "code",
   "execution_count": 3,
   "metadata": {},
   "outputs": [],
   "source": [
    "metadata_df = pd.read_csv('/global/D1/homes/vajira/data/sperm/visem/visem-dataset/videos/data/metadata.csv')"
   ]
  },
  {
   "cell_type": "code",
   "execution_count": 4,
   "metadata": {},
   "outputs": [
    {
     "data": {
      "text/html": [
       "<div>\n",
       "<style scoped>\n",
       "    .dataframe tbody tr th:only-of-type {\n",
       "        vertical-align: middle;\n",
       "    }\n",
       "\n",
       "    .dataframe tbody tr th {\n",
       "        vertical-align: top;\n",
       "    }\n",
       "\n",
       "    .dataframe thead th {\n",
       "        text-align: right;\n",
       "    }\n",
       "</style>\n",
       "<table border=\"1\" class=\"dataframe\">\n",
       "  <thead>\n",
       "    <tr style=\"text-align: right;\">\n",
       "      <th></th>\n",
       "      <th>file_name</th>\n",
       "      <th>Serum C14:0 (myristic acid)</th>\n",
       "      <th>Serum C16:0 (palmitic acid)</th>\n",
       "      <th>Serum C16:1 (palmitoleic acid)</th>\n",
       "      <th>Serum C18:0 (stearic acid)</th>\n",
       "      <th>Serum C18:1 n-9 (oleic acid)</th>\n",
       "      <th>Serum total C18:1</th>\n",
       "      <th>Serum C18:2 n-6 (linoleic acid, LA)</th>\n",
       "      <th>Serum C18:3 n-6 (gamma-linoleic acid, GLA)</th>\n",
       "      <th>Serum C20:1 n-9</th>\n",
       "      <th>...</th>\n",
       "      <th>High DNA stainability, HDS (%)</th>\n",
       "      <th>DNA fragmentation index, DFI (%)</th>\n",
       "      <th>Seminal plasma anti-Müllerian hormone (AMH) (pmol/L)</th>\n",
       "      <th>Serum total testosterone (nmol/L)</th>\n",
       "      <th>Serum oestradiol (nmol/L)</th>\n",
       "      <th>Serum sex hormone-binding globulin, SHBG (nmol/L)</th>\n",
       "      <th>Serum follicle-stimulating hormone, FSH (IU/L)</th>\n",
       "      <th>Serum Luteinizing hormone, LH (IU/L)</th>\n",
       "      <th>Serum inhibin B (ng/L)</th>\n",
       "      <th>Serum anti-Müllerian hormone, AMH (pmol/L)</th>\n",
       "    </tr>\n",
       "  </thead>\n",
       "  <tbody>\n",
       "    <tr>\n",
       "      <th>0</th>\n",
       "      <td>1.avi</td>\n",
       "      <td>0,36</td>\n",
       "      <td>29,72</td>\n",
       "      <td>0,64</td>\n",
       "      <td>13,67</td>\n",
       "      <td>9,00</td>\n",
       "      <td>10,90</td>\n",
       "      <td>19,48</td>\n",
       "      <td>0,30</td>\n",
       "      <td>0,16</td>\n",
       "      <td>...</td>\n",
       "      <td>13</td>\n",
       "      <td>29</td>\n",
       "      <td>64</td>\n",
       "      <td>16,8</td>\n",
       "      <td>0,13</td>\n",
       "      <td>15</td>\n",
       "      <td>2,3</td>\n",
       "      <td>4,2</td>\n",
       "      <td>289</td>\n",
       "      <td>54</td>\n",
       "    </tr>\n",
       "    <tr>\n",
       "      <th>1</th>\n",
       "      <td>2.avi</td>\n",
       "      <td>0,28</td>\n",
       "      <td>31,22</td>\n",
       "      <td>0,47</td>\n",
       "      <td>11,84</td>\n",
       "      <td>9,02</td>\n",
       "      <td>11,29</td>\n",
       "      <td>20,34</td>\n",
       "      <td>0,22</td>\n",
       "      <td>0,25</td>\n",
       "      <td>...</td>\n",
       "      <td>13</td>\n",
       "      <td>57</td>\n",
       "      <td>423</td>\n",
       "      <td>15</td>\n",
       "      <td>0,15</td>\n",
       "      <td>43</td>\n",
       "      <td>7,2</td>\n",
       "      <td>2,7</td>\n",
       "      <td>164</td>\n",
       "      <td>19</td>\n",
       "    </tr>\n",
       "    <tr>\n",
       "      <th>2</th>\n",
       "      <td>3.avi</td>\n",
       "      <td>0,36</td>\n",
       "      <td>27,95</td>\n",
       "      <td>0,47</td>\n",
       "      <td>16,57</td>\n",
       "      <td>8,65</td>\n",
       "      <td>10,36</td>\n",
       "      <td>23,75</td>\n",
       "      <td>0,26</td>\n",
       "      <td>0,19</td>\n",
       "      <td>...</td>\n",
       "      <td>11</td>\n",
       "      <td>12</td>\n",
       "      <td>37</td>\n",
       "      <td>8,2</td>\n",
       "      <td>0,18</td>\n",
       "      <td>32</td>\n",
       "      <td>4,2</td>\n",
       "      <td>4,8</td>\n",
       "      <td>67</td>\n",
       "      <td>47</td>\n",
       "    </tr>\n",
       "    <tr>\n",
       "      <th>3</th>\n",
       "      <td>4.avi</td>\n",
       "      <td>0,32</td>\n",
       "      <td>28,10</td>\n",
       "      <td>0,64</td>\n",
       "      <td>16,09</td>\n",
       "      <td>8,56</td>\n",
       "      <td>10,13</td>\n",
       "      <td>21,52</td>\n",
       "      <td>0,17</td>\n",
       "      <td>0,11</td>\n",
       "      <td>...</td>\n",
       "      <td>10</td>\n",
       "      <td>15</td>\n",
       "      <td>257</td>\n",
       "      <td>11,2</td>\n",
       "      <td>0,15</td>\n",
       "      <td>11</td>\n",
       "      <td>8,5</td>\n",
       "      <td>5,6</td>\n",
       "      <td>132</td>\n",
       "      <td>29</td>\n",
       "    </tr>\n",
       "    <tr>\n",
       "      <th>4</th>\n",
       "      <td>5.avi</td>\n",
       "      <td>0,40</td>\n",
       "      <td>29,94</td>\n",
       "      <td>0,80</td>\n",
       "      <td>14,17</td>\n",
       "      <td>9,47</td>\n",
       "      <td>11,02</td>\n",
       "      <td>22,29</td>\n",
       "      <td>0,38</td>\n",
       "      <td>0,15</td>\n",
       "      <td>...</td>\n",
       "      <td>21</td>\n",
       "      <td>13</td>\n",
       "      <td>2203</td>\n",
       "      <td>11,9</td>\n",
       "      <td>0,14</td>\n",
       "      <td>18</td>\n",
       "      <td>2,6</td>\n",
       "      <td>2,1</td>\n",
       "      <td>139</td>\n",
       "      <td>68</td>\n",
       "    </tr>\n",
       "  </tbody>\n",
       "</table>\n",
       "<p>5 rows × 65 columns</p>\n",
       "</div>"
      ],
      "text/plain": [
       "  file_name Serum C14:0 (myristic acid) Serum C16:0 (palmitic acid)   \n",
       "0     1.avi                        0,36                       29,72  \\\n",
       "1     2.avi                        0,28                       31,22   \n",
       "2     3.avi                        0,36                       27,95   \n",
       "3     4.avi                        0,32                       28,10   \n",
       "4     5.avi                        0,40                       29,94   \n",
       "\n",
       "  Serum C16:1 (palmitoleic acid) Serum C18:0 (stearic acid)   \n",
       "0                           0,64                      13,67  \\\n",
       "1                           0,47                      11,84   \n",
       "2                           0,47                      16,57   \n",
       "3                           0,64                      16,09   \n",
       "4                           0,80                      14,17   \n",
       "\n",
       "  Serum C18:1 n-9 (oleic acid) Serum total C18:1   \n",
       "0                         9,00             10,90  \\\n",
       "1                         9,02             11,29   \n",
       "2                         8,65             10,36   \n",
       "3                         8,56             10,13   \n",
       "4                         9,47             11,02   \n",
       "\n",
       "  Serum C18:2 n-6 (linoleic acid, LA)   \n",
       "0                               19,48  \\\n",
       "1                               20,34   \n",
       "2                               23,75   \n",
       "3                               21,52   \n",
       "4                               22,29   \n",
       "\n",
       "  Serum C18:3 n-6 (gamma-linoleic acid, GLA) Serum C20:1 n-9  ...   \n",
       "0                                       0,30            0,16  ...  \\\n",
       "1                                       0,22            0,25  ...   \n",
       "2                                       0,26            0,19  ...   \n",
       "3                                       0,17            0,11  ...   \n",
       "4                                       0,38            0,15  ...   \n",
       "\n",
       "  High DNA stainability, HDS (%) DNA fragmentation index, DFI (%)   \n",
       "0                             13                               29  \\\n",
       "1                             13                               57   \n",
       "2                             11                               12   \n",
       "3                             10                               15   \n",
       "4                             21                               13   \n",
       "\n",
       "  Seminal plasma anti-Müllerian hormone (AMH) (pmol/L)   \n",
       "0                                                 64    \\\n",
       "1                                                423     \n",
       "2                                                 37     \n",
       "3                                                257     \n",
       "4                                               2203     \n",
       "\n",
       "  Serum total testosterone (nmol/L) Serum oestradiol (nmol/L)   \n",
       "0                              16,8                      0,13  \\\n",
       "1                                15                      0,15   \n",
       "2                               8,2                      0,18   \n",
       "3                              11,2                      0,15   \n",
       "4                              11,9                      0,14   \n",
       "\n",
       "  Serum sex hormone-binding globulin, SHBG (nmol/L)   \n",
       "0                                                15  \\\n",
       "1                                                43   \n",
       "2                                                32   \n",
       "3                                                11   \n",
       "4                                                18   \n",
       "\n",
       "  Serum follicle-stimulating hormone, FSH (IU/L)   \n",
       "0                                            2,3  \\\n",
       "1                                            7,2   \n",
       "2                                            4,2   \n",
       "3                                            8,5   \n",
       "4                                            2,6   \n",
       "\n",
       "  Serum Luteinizing hormone, LH (IU/L) Serum inhibin B (ng/L)   \n",
       "0                                  4,2                    289  \\\n",
       "1                                  2,7                    164   \n",
       "2                                  4,8                     67   \n",
       "3                                  5,6                    132   \n",
       "4                                  2,1                    139   \n",
       "\n",
       "  Serum anti-Müllerian hormone, AMH (pmol/L)  \n",
       "0                                         54  \n",
       "1                                         19  \n",
       "2                                         47  \n",
       "3                                         29  \n",
       "4                                         68  \n",
       "\n",
       "[5 rows x 65 columns]"
      ]
     },
     "execution_count": 4,
     "metadata": {},
     "output_type": "execute_result"
    }
   ],
   "source": [
    "metadata_df.head()"
   ]
  },
  {
   "cell_type": "code",
   "execution_count": 26,
   "metadata": {},
   "outputs": [
    {
     "data": {
      "text/plain": [
       "0     105,3\n",
       "1      45,4\n",
       "2      50,0\n",
       "3      42,9\n",
       "4      32,8\n",
       "      ...  \n",
       "80     62,0\n",
       "81     22,0\n",
       "82    148,0\n",
       "83     43,0\n",
       "84    184,0\n",
       "Name: Sperm concentration (x10⁶/mL), Length: 85, dtype: object"
      ]
     },
     "execution_count": 26,
     "metadata": {},
     "output_type": "execute_result"
    }
   ],
   "source": [
    "metadata_df['Sperm concentration (x10⁶/mL)']"
   ]
  },
  {
   "cell_type": "code",
   "execution_count": 34,
   "metadata": {},
   "outputs": [
    {
     "data": {
      "text/plain": [
       "array([[<Axes: title={'center': 'Age (years)'}>,\n",
       "        <Axes: title={'center': 'Sperm vitality (%)'}>,\n",
       "        <Axes: title={'center': 'Progressive motility (%)'}>],\n",
       "       [<Axes: title={'center': 'Non progressive sperm motility (%)'}>,\n",
       "        <Axes: title={'center': 'Immotile sperm (%)'}>,\n",
       "        <Axes: title={'center': 'High DNA stainability, HDS (%)'}>],\n",
       "       [<Axes: title={'center': 'DNA fragmentation index, DFI (%)'}>,\n",
       "        <Axes: title={'center': 'Seminal plasma anti-Müllerian hormone (AMH) (pmol/L)'}>,\n",
       "        <Axes: title={'center': 'Serum sex hormone-binding globulin, SHBG (nmol/L)'}>],\n",
       "       [<Axes: title={'center': 'Serum inhibin B (ng/L)'}>,\n",
       "        <Axes: title={'center': 'Serum anti-Müllerian hormone, AMH (pmol/L)'}>,\n",
       "        <Axes: >]], dtype=object)"
      ]
     },
     "execution_count": 34,
     "metadata": {},
     "output_type": "execute_result"
    },
    {
     "data": {
      "image/png": "[encoded data removed]",
      "text/plain": [
       "<Figure size 640x480 with 12 Axes>"
      ]
     },
     "metadata": {},
     "output_type": "display_data"
    }
   ],
   "source": [
    "# Plot sperm concentration distribution\n",
    "metadata_df.hist(bins=3, xrot=90)"
   ]
  },
  {
   "cell_type": "code",
   "execution_count": 9,
   "metadata": {},
   "outputs": [
    {
     "name": "stdout",
     "output_type": "stream",
     "text": [
      "['file_name', 'Serum C14:0 (myristic acid)', 'Serum C16:0 (palmitic acid)', 'Serum C16:1 (palmitoleic acid)', 'Serum C18:0 (stearic acid)', 'Serum C18:1 n-9 (oleic acid)', 'Serum total C18:1', 'Serum C18:2 n-6 (linoleic acid, LA)', 'Serum C18:3 n-6 (gamma-linoleic acid, GLA)', 'Serum C20:1 n-9', 'Serum C20:2 n-6', 'Serum C20:3 n-6', 'Serum C20:4 n-6', 'Serum C20:5 n-3  (eicosapentaenoic acid, EPA)', 'Serum C22:5 n-3 (docosapentaenoic acid, DPA)', 'Serum C22:6 n-3 (docosahexaenoic acid, DHA)', 'Sperm C14:0 (myristic acid)', 'Sperm C15:0 (pentadecanoic acid)', 'Sperm C16:0 (palmitic acid)', 'Sperm C16:1 n-7 (palmitoleic acid)', 'Sperm C17:0', 'Sperm C18:0 (stearic acid)', 'Sperm C18:1 trans n-6 to n-11', 'Sperm C18:1 n-9 (oleic acid)', 'Sperm C18:1 n-7 to n-11', 'Sperm C18:2 n-6 (Linoleic acid, LA)', 'Sperm C20:0', 'Sperm C18:3 n-6 (gamma-linoleic acid, GLA)', 'Sperm C18:3 n-3 (a-linoleic acid, ALA)', 'Sperm C20:1 n-9', 'Sperm C20:2 n-6', 'Sperm C22:0', 'Sperm C20:3 n-6', 'Sperm C20:4 n-6 and C22:1 n-9 combined', 'Sperm C20:5 n-3 (eicosapentaenoic acid, EPA)', 'Sperm C24:0', 'Sperm C24:1 n-9', 'Sperm C22:5 n-3 (docosapentaenoic acid, DPA)', 'Sperm C22:6,n3 (docosahexaenoic acid, DHA)', 'Abstinence time(days)', 'Body mass index (kg/m²)', 'Age (years)', 'Sperm concentration (x10⁶/mL)', 'Total sperm count (x10⁶)', 'Ejaculate volume (mL)', 'Sperm vitality (%)', 'Normal spermatozoa (%)', 'Head defects (%)', 'Midpiece and neck defects (%)', 'Tail defects (%)', 'Cytoplasmic droplet (%)', 'Teratozoospermia index', 'Progressive motility (%)', 'Non progressive sperm motility (%)', 'Immotile sperm (%)', 'High DNA stainability, HDS (%)', 'DNA fragmentation index, DFI (%)', 'Seminal plasma anti-Müllerian hormone (AMH) (pmol/L)', 'Serum total testosterone (nmol/L)', 'Serum oestradiol (nmol/L)', 'Serum sex hormone-binding globulin, SHBG (nmol/L)', 'Serum follicle-stimulating hormone, FSH (IU/L)', 'Serum Luteinizing hormone, LH (IU/L)', 'Serum inhibin B (ng/L)', 'Serum anti-Müllerian hormone, AMH (pmol/L)']\n"
     ]
    }
   ],
   "source": [
    "print(list(metadata_df.columns))"
   ]
  },
  {
   "cell_type": "code",
   "execution_count": 6,
   "metadata": {},
   "outputs": [],
   "source": [
    "skf = StratifiedKFold(n_splits=5)"
   ]
  },
  {
   "cell_type": "code",
   "execution_count": 22,
   "metadata": {},
   "outputs": [],
   "source": [
    "folds = skf.split(metadata_df['file_name'], metadata_df['Sperm concentration (x10⁶/mL)'])"
   ]
  },
  {
   "cell_type": "code",
   "execution_count": 23,
   "metadata": {},
   "outputs": [
    {
     "data": {
      "text/plain": [
       "<generator object _BaseKFold.split at 0x1553cfe00580>"
      ]
     },
     "execution_count": 23,
     "metadata": {},
     "output_type": "execute_result"
    }
   ],
   "source": [
    "folds"
   ]
  },
  {
   "cell_type": "code",
   "execution_count": 39,
   "metadata": {},
   "outputs": [
    {
     "name": "stdout",
     "output_type": "stream",
     "text": [
      "['105,3', '45,4', '50,0', '42,9', '32,8', '52,0', '13,0', '21,0', '89,0', '40,0', '97,0', '29,4', '74,4', '3,8', '4,0', '305,0', '58,7', '93,1', '14,5', '70,9', '28,1', '12,0', '4,5', '159,0', '120,3', '86,8', '192,0', '6,8', '4,2', '39,6', '350,0', '99,0', '54,9', '116,0', '33,8', '53,6', '160,3', '12,3', '148,5', '68,9', '89,6', '33,0', '190,3', '98,4', '126,0', '33,4', '30,5', '46,7', '31,1', '208,8', '124,8', '6,9', '68,9', '19,8', '138,0', '186,0', '47,0', '62,0', '50,0', '13,4', '78,2', '70,0', '61,0', '104,0', '120,0', '42,0', '149,0', '26,8', '122,0', '119,0', '80,0', '121,0', '119,0', '106,0', '51,3', '15,8', '82,4', '187,0', '91,0', '108,0', '62,0', '22,0', '148,0', '43,0', '184,0']\n"
     ]
    }
   ],
   "source": [
    "print(list(metadata_df['Sperm concentration (x10⁶/mL)']))"
   ]
  },
  {
   "cell_type": "code",
   "execution_count": 43,
   "metadata": {},
   "outputs": [],
   "source": [
    "metadata_df['Sperm concentration (x10⁶/mL)'] = metadata_df['Sperm concentration (x10⁶/mL)'].str.replace(\",\", \".\").astype('float')"
   ]
  },
  {
   "cell_type": "code",
   "execution_count": 66,
   "metadata": {},
   "outputs": [
    {
     "data": {
      "text/plain": [
       "[0,\n",
       " 1,\n",
       " 2,\n",
       " 3,\n",
       " 4,\n",
       " 5,\n",
       " 6,\n",
       " 7,\n",
       " 8,\n",
       " 9,\n",
       " 10,\n",
       " 11,\n",
       " 12,\n",
       " 13,\n",
       " 14,\n",
       " 15,\n",
       " 16,\n",
       " 17,\n",
       " 18,\n",
       " 19,\n",
       " 20,\n",
       " 21,\n",
       " 22,\n",
       " 23,\n",
       " 24,\n",
       " 25,\n",
       " 26,\n",
       " 27,\n",
       " 28,\n",
       " 29,\n",
       " 30,\n",
       " 31,\n",
       " 32,\n",
       " 33,\n",
       " 34,\n",
       " 35,\n",
       " 36,\n",
       " 37,\n",
       " 38,\n",
       " 39,\n",
       " 40,\n",
       " 41,\n",
       " 42,\n",
       " 43,\n",
       " 44,\n",
       " 45,\n",
       " 46,\n",
       " 47,\n",
       " 48,\n",
       " 49,\n",
       " 50,\n",
       " 51,\n",
       " 52,\n",
       " 53,\n",
       " 54,\n",
       " 55,\n",
       " 56,\n",
       " 57,\n",
       " 58,\n",
       " 59,\n",
       " 60,\n",
       " 61,\n",
       " 62,\n",
       " 63,\n",
       " 64,\n",
       " 65,\n",
       " 66,\n",
       " 67,\n",
       " 68,\n",
       " 69,\n",
       " 70,\n",
       " 71,\n",
       " 72,\n",
       " 73,\n",
       " 74,\n",
       " 75,\n",
       " 76,\n",
       " 77,\n",
       " 78,\n",
       " 79,\n",
       " 80,\n",
       " 81,\n",
       " 82,\n",
       " 83,\n",
       " 84]"
      ]
     },
     "execution_count": 66,
     "metadata": {},
     "output_type": "execute_result"
    }
   ],
   "source": [
    "list(metadata_df.index)"
   ]
  },
  {
   "cell_type": "code",
   "execution_count": 59,
   "metadata": {},
   "outputs": [],
   "source": [
    "out = pd.qcut(metadata_df['Sperm concentration (x10⁶/mL)'], q=5, labels=[\"lower\", \"low\", \"medium\", \"high\", \"higher\"])"
   ]
  },
  {
   "cell_type": "code",
   "execution_count": 62,
   "metadata": {},
   "outputs": [
    {
     "data": {
      "text/plain": [
       "0       high\n",
       "1        low\n",
       "2        low\n",
       "3        low\n",
       "4        low\n",
       "       ...  \n",
       "80    medium\n",
       "81     lower\n",
       "82    higher\n",
       "83       low\n",
       "84    higher\n",
       "Name: Sperm concentration (x10⁶/mL), Length: 85, dtype: category\n",
       "Categories (5, object): ['lower' < 'low' < 'medium' < 'high' < 'higher']"
      ]
     },
     "execution_count": 62,
     "metadata": {},
     "output_type": "execute_result"
    }
   ],
   "source": [
    "out"
   ]
  },
  {
   "cell_type": "code",
   "execution_count": 67,
   "metadata": {},
   "outputs": [],
   "source": [
    "# combine out with metadata_df using index\n",
    "metadata_df['folds'] = out"
   ]
  },
  {
   "cell_type": "code",
   "execution_count": 68,
   "metadata": {},
   "outputs": [],
   "source": [
    "skf = StratifiedKFold(n_splits=5)"
   ]
  },
  {
   "cell_type": "code",
   "execution_count": 79,
   "metadata": {},
   "outputs": [],
   "source": [
    "folds = skf.split(metadata_df['file_name'], metadata_df[\"folds\"])"
   ]
  },
  {
   "cell_type": "code",
   "execution_count": 80,
   "metadata": {},
   "outputs": [
    {
     "data": {
      "text/plain": [
       "<generator object _BaseKFold.split at 0x1553c7108890>"
      ]
     },
     "execution_count": 80,
     "metadata": {},
     "output_type": "execute_result"
    }
   ],
   "source": [
    "folds"
   ]
  },
  {
   "cell_type": "code",
   "execution_count": 81,
   "metadata": {},
   "outputs": [
    {
     "name": "stdout",
     "output_type": "stream",
     "text": [
      "0\n",
      "[ 4  9 11 14 18 20 21 22 24 25 27 28 29 30 31 32 33 34 35 36 37 38 39 40\n",
      " 41 42 43 44 45 46 47 48 49 50 51 52 53 54 55 56 57 58 59 60 61 62 63 64\n",
      " 65 66 67 68 69 70 71 72 73 74 75 76 77 78 79 80 81 82 83 84]\n",
      "[ 0  1  2  3  5  6  7  8 10 12 13 15 16 17 19 23 26]\n",
      "count of folds folds\n",
      "medium    4\n",
      "high      4\n",
      "lower     3\n",
      "low       3\n",
      "higher    3\n",
      "Name: count, dtype: int64\n",
      "1\n",
      "[ 0  1  2  3  5  6  7  8 10 12 13 15 16 17 19 22 23 26 27 28 29 34 37 39\n",
      " 41 42 43 44 45 46 47 48 49 50 51 52 53 54 55 56 57 58 59 60 61 62 63 64\n",
      " 65 66 67 68 69 70 71 72 73 74 75 76 77 78 79 80 81 82 83 84]\n",
      "[ 4  9 11 14 18 20 21 24 25 30 31 32 33 35 36 38 40]\n",
      "count of folds folds\n",
      "lower     4\n",
      "high      4\n",
      "low       3\n",
      "medium    3\n",
      "higher    3\n",
      "Name: count, dtype: int64\n",
      "2\n",
      "[ 0  1  2  3  4  5  6  7  8  9 10 11 12 13 14 15 16 17 18 19 20 21 23 24\n",
      " 25 26 30 31 32 33 35 36 38 40 46 47 48 50 51 53 54 55 56 58 59 60 61 62\n",
      " 65 66 67 68 69 70 71 72 73 74 75 76 77 78 79 80 81 82 83 84]\n",
      "[22 27 28 29 34 37 39 41 42 43 44 45 49 52 57 63 64]\n",
      "count of folds folds\n",
      "lower     4\n",
      "low       4\n",
      "medium    3\n",
      "high      3\n",
      "higher    3\n",
      "Name: count, dtype: int64\n",
      "3\n",
      "[ 0  1  2  3  4  5  6  7  8  9 10 11 12 13 14 15 16 17 18 19 20 21 22 23\n",
      " 24 25 26 27 28 29 30 31 32 33 34 35 36 37 38 39 40 41 42 43 44 45 49 52\n",
      " 57 58 63 64 65 67 68 70 73 74 75 76 77 78 79 80 81 82 83 84]\n",
      "[46 47 48 50 51 53 54 55 56 59 60 61 62 66 69 71 72]\n",
      "count of folds folds\n",
      "low       4\n",
      "higher    4\n",
      "lower     3\n",
      "medium    3\n",
      "high      3\n",
      "Name: count, dtype: int64\n",
      "4\n",
      "[ 0  1  2  3  4  5  6  7  8  9 10 11 12 13 14 15 16 17 18 19 20 21 22 23\n",
      " 24 25 26 27 28 29 30 31 32 33 34 35 36 37 38 39 40 41 42 43 44 45 46 47\n",
      " 48 49 50 51 52 53 54 55 56 57 59 60 61 62 63 64 66 69 71 72]\n",
      "[58 65 67 68 70 73 74 75 76 77 78 79 80 81 82 83 84]\n",
      "count of folds folds\n",
      "medium    4\n",
      "higher    4\n",
      "lower     3\n",
      "low       3\n",
      "high      3\n",
      "Name: count, dtype: int64\n"
     ]
    }
   ],
   "source": [
    "for i, (train_i, test_i)in enumerate(folds):\n",
    "    print(i)\n",
    "    print(train_i)\n",
    "    print(test_i)\n",
    "    # select rows from metadata_df using train_i and test_i\n",
    "    #train_df = metadata_df.iloc[train_i]\n",
    "    test_df = metadata_df.iloc[test_i]\n",
    "    print(\"count of folds\", test_df['folds'].value_counts())"
   ]
  },
  {
   "cell_type": "code",
   "execution_count": 54,
   "metadata": {},
   "outputs": [
    {
     "data": {
      "text/plain": [
       "Sperm concentration (x10⁶/mL)\n",
       "lower     17\n",
       "low       17\n",
       "medium    17\n",
       "high      17\n",
       "higher    17\n",
       "Name: count, dtype: int64"
      ]
     },
     "execution_count": 54,
     "metadata": {},
     "output_type": "execute_result"
    }
   ],
   "source": [
    "out.value_counts()"
   ]
  },
  {
   "cell_type": "code",
   "execution_count": 24,
   "metadata": {},
   "outputs": [
    {
     "ename": "ValueError",
     "evalue": "n_splits=5 cannot be greater than the number of members in each class.",
     "output_type": "error",
     "traceback": [
      "\u001b[0;31m---------------------------------------------------------------------------\u001b[0m",
      "\u001b[0;31mValueError\u001b[0m                                Traceback (most recent call last)",
      "Cell \u001b[0;32mIn[24], line 1\u001b[0m\n\u001b[0;32m----> 1\u001b[0m \u001b[38;5;28;01mfor\u001b[39;00m i, (_, _)\u001b[38;5;129;01min\u001b[39;00m \u001b[38;5;28menumerate\u001b[39m(folds):\n\u001b[1;32m      2\u001b[0m     \u001b[38;5;28mprint\u001b[39m(i)\n\u001b[1;32m      3\u001b[0m     \u001b[38;5;66;03m#print(file_name)\u001b[39;00m\n\u001b[1;32m      4\u001b[0m     \u001b[38;5;66;03m#print(sperm_concentration)\u001b[39;00m\n\u001b[1;32m      5\u001b[0m     \u001b[38;5;66;03m#print(metadata_df['Sperm concentration (x10⁶/mL)'][file_name])\u001b[39;00m\n\u001b[1;32m      6\u001b[0m     \u001b[38;5;66;03m#print(metadata_df['Sperm concentration (x10⁶/mL)'][sperm_concentration])\u001b[39;00m\n\u001b[1;32m      7\u001b[0m     \u001b[38;5;66;03m#print('---')\u001b[39;00m\n",
      "File \u001b[0;32m/work/vajira/anaconda3/envs/pytorch2/lib/python3.10/site-packages/sklearn/model_selection/_split.py:352\u001b[0m, in \u001b[0;36m_BaseKFold.split\u001b[0;34m(self, X, y, groups)\u001b[0m\n\u001b[1;32m    344\u001b[0m \u001b[38;5;28;01mif\u001b[39;00m \u001b[38;5;28mself\u001b[39m\u001b[38;5;241m.\u001b[39mn_splits \u001b[38;5;241m>\u001b[39m n_samples:\n\u001b[1;32m    345\u001b[0m     \u001b[38;5;28;01mraise\u001b[39;00m \u001b[38;5;167;01mValueError\u001b[39;00m(\n\u001b[1;32m    346\u001b[0m         (\n\u001b[1;32m    347\u001b[0m             \u001b[38;5;124m\"\u001b[39m\u001b[38;5;124mCannot have number of splits n_splits=\u001b[39m\u001b[38;5;132;01m{0}\u001b[39;00m\u001b[38;5;124m greater\u001b[39m\u001b[38;5;124m\"\u001b[39m\n\u001b[1;32m    348\u001b[0m             \u001b[38;5;124m\"\u001b[39m\u001b[38;5;124m than the number of samples: n_samples=\u001b[39m\u001b[38;5;132;01m{1}\u001b[39;00m\u001b[38;5;124m.\u001b[39m\u001b[38;5;124m\"\u001b[39m\n\u001b[1;32m    349\u001b[0m         )\u001b[38;5;241m.\u001b[39mformat(\u001b[38;5;28mself\u001b[39m\u001b[38;5;241m.\u001b[39mn_splits, n_samples)\n\u001b[1;32m    350\u001b[0m     )\n\u001b[0;32m--> 352\u001b[0m \u001b[38;5;28;01mfor\u001b[39;00m train, test \u001b[38;5;129;01min\u001b[39;00m \u001b[38;5;28msuper\u001b[39m()\u001b[38;5;241m.\u001b[39msplit(X, y, groups):\n\u001b[1;32m    353\u001b[0m     \u001b[38;5;28;01myield\u001b[39;00m train, test\n",
      "File \u001b[0;32m/work/vajira/anaconda3/envs/pytorch2/lib/python3.10/site-packages/sklearn/model_selection/_split.py:85\u001b[0m, in \u001b[0;36mBaseCrossValidator.split\u001b[0;34m(self, X, y, groups)\u001b[0m\n\u001b[1;32m     83\u001b[0m X, y, groups \u001b[38;5;241m=\u001b[39m indexable(X, y, groups)\n\u001b[1;32m     84\u001b[0m indices \u001b[38;5;241m=\u001b[39m np\u001b[38;5;241m.\u001b[39marange(_num_samples(X))\n\u001b[0;32m---> 85\u001b[0m \u001b[38;5;28;01mfor\u001b[39;00m test_index \u001b[38;5;129;01min\u001b[39;00m \u001b[38;5;28mself\u001b[39m\u001b[38;5;241m.\u001b[39m_iter_test_masks(X, y, groups):\n\u001b[1;32m     86\u001b[0m     train_index \u001b[38;5;241m=\u001b[39m indices[np\u001b[38;5;241m.\u001b[39mlogical_not(test_index)]\n\u001b[1;32m     87\u001b[0m     test_index \u001b[38;5;241m=\u001b[39m indices[test_index]\n",
      "File \u001b[0;32m/work/vajira/anaconda3/envs/pytorch2/lib/python3.10/site-packages/sklearn/model_selection/_split.py:733\u001b[0m, in \u001b[0;36mStratifiedKFold._iter_test_masks\u001b[0;34m(self, X, y, groups)\u001b[0m\n\u001b[1;32m    732\u001b[0m \u001b[38;5;28;01mdef\u001b[39;00m \u001b[38;5;21m_iter_test_masks\u001b[39m(\u001b[38;5;28mself\u001b[39m, X, y\u001b[38;5;241m=\u001b[39m\u001b[38;5;28;01mNone\u001b[39;00m, groups\u001b[38;5;241m=\u001b[39m\u001b[38;5;28;01mNone\u001b[39;00m):\n\u001b[0;32m--> 733\u001b[0m     test_folds \u001b[38;5;241m=\u001b[39m \u001b[38;5;28;43mself\u001b[39;49m\u001b[38;5;241;43m.\u001b[39;49m\u001b[43m_make_test_folds\u001b[49m\u001b[43m(\u001b[49m\u001b[43mX\u001b[49m\u001b[43m,\u001b[49m\u001b[43m \u001b[49m\u001b[43my\u001b[49m\u001b[43m)\u001b[49m\n\u001b[1;32m    734\u001b[0m     \u001b[38;5;28;01mfor\u001b[39;00m i \u001b[38;5;129;01min\u001b[39;00m \u001b[38;5;28mrange\u001b[39m(\u001b[38;5;28mself\u001b[39m\u001b[38;5;241m.\u001b[39mn_splits):\n\u001b[1;32m    735\u001b[0m         \u001b[38;5;28;01myield\u001b[39;00m test_folds \u001b[38;5;241m==\u001b[39m i\n",
      "File \u001b[0;32m/work/vajira/anaconda3/envs/pytorch2/lib/python3.10/site-packages/sklearn/model_selection/_split.py:695\u001b[0m, in \u001b[0;36mStratifiedKFold._make_test_folds\u001b[0;34m(self, X, y)\u001b[0m\n\u001b[1;32m    693\u001b[0m min_groups \u001b[38;5;241m=\u001b[39m np\u001b[38;5;241m.\u001b[39mmin(y_counts)\n\u001b[1;32m    694\u001b[0m \u001b[38;5;28;01mif\u001b[39;00m np\u001b[38;5;241m.\u001b[39mall(\u001b[38;5;28mself\u001b[39m\u001b[38;5;241m.\u001b[39mn_splits \u001b[38;5;241m>\u001b[39m y_counts):\n\u001b[0;32m--> 695\u001b[0m     \u001b[38;5;28;01mraise\u001b[39;00m \u001b[38;5;167;01mValueError\u001b[39;00m(\n\u001b[1;32m    696\u001b[0m         \u001b[38;5;124m\"\u001b[39m\u001b[38;5;124mn_splits=\u001b[39m\u001b[38;5;132;01m%d\u001b[39;00m\u001b[38;5;124m cannot be greater than the\u001b[39m\u001b[38;5;124m\"\u001b[39m\n\u001b[1;32m    697\u001b[0m         \u001b[38;5;124m\"\u001b[39m\u001b[38;5;124m number of members in each class.\u001b[39m\u001b[38;5;124m\"\u001b[39m \u001b[38;5;241m%\u001b[39m (\u001b[38;5;28mself\u001b[39m\u001b[38;5;241m.\u001b[39mn_splits)\n\u001b[1;32m    698\u001b[0m     )\n\u001b[1;32m    699\u001b[0m \u001b[38;5;28;01mif\u001b[39;00m \u001b[38;5;28mself\u001b[39m\u001b[38;5;241m.\u001b[39mn_splits \u001b[38;5;241m>\u001b[39m min_groups:\n\u001b[1;32m    700\u001b[0m     warnings\u001b[38;5;241m.\u001b[39mwarn(\n\u001b[1;32m    701\u001b[0m         \u001b[38;5;124m\"\u001b[39m\u001b[38;5;124mThe least populated class in y has only \u001b[39m\u001b[38;5;132;01m%d\u001b[39;00m\u001b[38;5;124m\"\u001b[39m\n\u001b[1;32m    702\u001b[0m         \u001b[38;5;124m\"\u001b[39m\u001b[38;5;124m members, which is less than n_splits=\u001b[39m\u001b[38;5;132;01m%d\u001b[39;00m\u001b[38;5;124m.\u001b[39m\u001b[38;5;124m\"\u001b[39m\n\u001b[1;32m    703\u001b[0m         \u001b[38;5;241m%\u001b[39m (min_groups, \u001b[38;5;28mself\u001b[39m\u001b[38;5;241m.\u001b[39mn_splits),\n\u001b[1;32m    704\u001b[0m         \u001b[38;5;167;01mUserWarning\u001b[39;00m,\n\u001b[1;32m    705\u001b[0m     )\n",
      "\u001b[0;31mValueError\u001b[0m: n_splits=5 cannot be greater than the number of members in each class."
     ]
    }
   ],
   "source": [
    "for i, (_, _)in enumerate(folds):\n",
    "    print(i)\n",
    "    #print(file_name)\n",
    "    #print(sperm_concentration)\n",
    "    #print(metadata_df['Sperm concentration (x10⁶/mL)'][file_name])\n",
    "    #print(metadata_df['Sperm concentration (x10⁶/mL)'][sperm_concentration])\n",
    "    #print('---')\n",
    "\n",
    "    "
   ]
  },
  {
   "cell_type": "code",
   "execution_count": null,
   "metadata": {},
   "outputs": [],
   "source": []
  }
 ],
 "metadata": {
  "kernelspec": {
   "display_name": "pytorch2",
   "language": "python",
   "name": "pytorch2"
  },
  "language_info": {
   "codemirror_mode": {
    "name": "ipython",
    "version": 3
   },
   "file_extension": ".py",
   "mimetype": "text/x-python",
   "name": "python",
   "nbconvert_exporter": "python",
   "pygments_lexer": "ipython3",
   "version": "3.10.13"
  }
 },
 "nbformat": 4,
 "nbformat_minor": 2
}
