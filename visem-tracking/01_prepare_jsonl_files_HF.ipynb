{
 "cells": [
  {
   "cell_type": "code",
   "execution_count": 1,
   "metadata": {},
   "outputs": [],
   "source": [
    "import os\n",
    "import json\n",
    "import glob\n",
    "from PIL import Image"
   ]
  },
  {
   "cell_type": "code",
   "execution_count": 2,
   "metadata": {},
   "outputs": [],
   "source": [
    "# Define paths\n",
    "yolo_annotations_folder = \"/global/D1/homes/vajira/data/sperm/visem_tracking/yolo_BB_with_feid\"  # Update this path\n",
    "image_folder = \"/global/D1/homes/vajira/data/sperm/visem_tracking/extracted_frames_with_BB\"  # Update this path\n",
    "output_jsonl = \"/global/D1/homes/vajira/data/sperm/visem_tracking/metadata/metadata.jsonl\""
   ]
  },
  {
   "cell_type": "code",
   "execution_count": 3,
   "metadata": {},
   "outputs": [],
   "source": [
    "# Function to convert YOLO bbox to COCO format\n",
    "def yolo_to_coco(x_center, y_center, width, height, img_width, img_height):\n",
    "    x_min = (x_center - width / 2) * img_width\n",
    "    y_min = (y_center - height / 2) * img_height\n",
    "    w = width * img_width\n",
    "    h = height * img_height\n",
    "    return [x_min, y_min, w, h]"
   ]
  },
  {
   "cell_type": "code",
   "execution_count": 4,
   "metadata": {},
   "outputs": [
    {
     "name": "stdout",
     "output_type": "stream",
     "text": [
      "Metadata saved to /global/D1/homes/vajira/data/sperm/visem_tracking/metadata/metadata.jsonl\n"
     ]
    }
   ],
   "source": [
    "# Process each YOLO annotation file\n",
    "metadata = []\n",
    "for txt_file in glob.glob(os.path.join(yolo_annotations_folder, \"*.txt\")):\n",
    "    # Extract frame details from filename\n",
    "    file_name = os.path.basename(txt_file).replace(\"_with_ftid.txt\", \".jpg\")\n",
    "    image_path = os.path.join(image_folder, file_name)\n",
    "\n",
    "    # Skip if image does not exist\n",
    "    if not os.path.exists(image_path):\n",
    "        print(f\"Skipping {file_name}, image not found.\")\n",
    "        continue\n",
    "\n",
    "    # Get image dimensions\n",
    "    with Image.open(image_path) as img:\n",
    "        img_width, img_height = img.size\n",
    "\n",
    "    objects = {\"yolo_bbox\": [], \"coco_bbox\": [], \"categories\": [], \"feature_ids\": []}\n",
    "\n",
    "    # Read YOLO annotation file\n",
    "    with open(txt_file, \"r\") as f:\n",
    "        for line in f:\n",
    "            parts = line.strip().split()\n",
    "            if len(parts) < 6:\n",
    "                continue  # Skip invalid lines\n",
    "\n",
    "            feature_id, class_id, x_center, y_center, width, height = parts\n",
    "            x_center, y_center, width, height = map(float, [x_center, y_center, width, height])\n",
    "            \n",
    "            # Convert to COCO format\n",
    "            coco_bbox = yolo_to_coco(x_center, y_center, width, height, img_width, img_height)\n",
    "            \n",
    "            # Store in objects dictionary\n",
    "            objects[\"yolo_bbox\"].append([x_center, y_center, width, height])  # YOLO format\n",
    "            objects[\"coco_bbox\"].append(coco_bbox)  # COCO format\n",
    "            objects[\"categories\"].append(int(class_id))\n",
    "            objects[\"feature_ids\"].append(feature_id)\n",
    "\n",
    "    # Construct metadata entry\n",
    "    entry = {\n",
    "        \"file_name\": file_name,\n",
    "        \"image_width\": img_width,\n",
    "        \"image_height\": img_height,\n",
    "        \"objects\": objects,\n",
    "    }\n",
    "    metadata.append(entry)\n",
    "\n",
    "# Write to JSONL file\n",
    "with open(output_jsonl, \"w\") as jsonl_file:\n",
    "    for entry in metadata:\n",
    "        jsonl_file.write(json.dumps(entry) + \"\\n\")\n",
    "\n",
    "print(f\"Metadata saved to {output_jsonl}\")"
   ]
  },
  {
   "cell_type": "code",
   "execution_count": null,
   "metadata": {},
   "outputs": [],
   "source": []
  }
 ],
 "metadata": {
  "kernelspec": {
   "display_name": "pytorch2",
   "language": "python",
   "name": "pytorch2"
  },
  "language_info": {
   "codemirror_mode": {
    "name": "ipython",
    "version": 3
   },
   "file_extension": ".py",
   "mimetype": "text/x-python",
   "name": "python",
   "nbconvert_exporter": "python",
   "pygments_lexer": "ipython3",
   "version": "3.10.13"
  }
 },
 "nbformat": 4,
 "nbformat_minor": 2
}
